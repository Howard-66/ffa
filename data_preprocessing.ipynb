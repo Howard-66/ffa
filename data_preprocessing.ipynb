{
 "cells": [
  {
   "cell_type": "markdown",
   "metadata": {},
   "source": [
    "# 数据预处理"
   ]
  },
  {
   "cell_type": "code",
   "execution_count": 2,
   "metadata": {},
   "outputs": [],
   "source": [
    "import akshare as ak"
   ]
  },
  {
   "cell_type": "markdown",
   "metadata": {},
   "source": [
    "## 基础数据"
   ]
  },
  {
   "cell_type": "code",
   "execution_count": 3,
   "metadata": {},
   "outputs": [],
   "source": [
    "# 期货基础信息\n",
    "futures_comm_info_df = ak.futures_comm_info(symbol=\"所有\")\n",
    "futures_comm_info_df.to_excel('data/common_info.xlsx')"
   ]
  },
  {
   "cell_type": "code",
   "execution_count": 4,
   "metadata": {},
   "outputs": [],
   "source": [
    "# 获得期货品种\n",
    "futures_symbol_mark_df = ak.futures_symbol_mark()"
   ]
  },
  {
   "cell_type": "code",
   "execution_count": null,
   "metadata": {},
   "outputs": [],
   "source": [
    "import warnings\n",
    "warnings.filterwarnings('ignore')\n",
    "# 从akshare获取基差数据\n",
    "# 基差数据截止到2023.9.14 ？\n",
    "\n",
    "# stock_zh_a_minute_df = ak.stock_zh_a_minute(symbol='sz000876', period='1', adjust=\"qfq\")\n",
    "#df1 = ak.futures_spot_price_daily(start_day='20230101',end_day='20230914', vars_list=['RB'])\n",
    "#df2 = ak.futures_spot_price_daily(start_day='20230916',end_day='20231020', vars_list=['RB'])\n",
    "futures_spot_price_df = ak.futures_spot_price(\"20231106\")"
   ]
  },
  {
   "cell_type": "markdown",
   "metadata": {},
   "source": [
    "## 主力合约"
   ]
  },
  {
   "cell_type": "code",
   "execution_count": null,
   "metadata": {},
   "outputs": [],
   "source": []
  }
 ],
 "metadata": {
  "kernelspec": {
   "display_name": "Python 3",
   "language": "python",
   "name": "python3"
  },
  "language_info": {
   "codemirror_mode": {
    "name": "ipython",
    "version": 3
   },
   "file_extension": ".py",
   "mimetype": "text/x-python",
   "name": "python",
   "nbconvert_exporter": "python",
   "pygments_lexer": "ipython3",
   "version": "3.10.9"
  }
 },
 "nbformat": 4,
 "nbformat_minor": 2
}
