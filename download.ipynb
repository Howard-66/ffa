{
 "cells": [
  {
   "cell_type": "code",
   "execution_count": 2,
   "metadata": {},
   "outputs": [],
   "source": [
    "import pandas as pd\n",
    "import akshare as ak\n",
    "from dateutil.relativedelta import relativedelta\n",
    "from datetime import datetime\n",
    "import dataworks as dw"
   ]
  },
  {
   "cell_type": "code",
   "execution_count": 3,
   "metadata": {},
   "outputs": [],
   "source": [
    "d = dw.DataWorks()"
   ]
  },
  {
   "cell_type": "markdown",
   "metadata": {},
   "source": [
    "## 期货历史合约数据"
   ]
  },
  {
   "cell_type": "markdown",
   "metadata": {},
   "source": [
    "### 大连商品交易所"
   ]
  },
  {
   "cell_type": "code",
   "execution_count": 3,
   "metadata": {},
   "outputs": [],
   "source": [
    "df_futures_daily_dce = d.get_data_by_sql('SELECT * FROM dce')\n",
    "df_futures_daily_dce.tail()"
   ]
  },
  {
   "cell_type": "code",
   "execution_count": null,
   "metadata": {},
   "outputs": [],
   "source": [
    "start_date = '20231101'\n",
    "end_date = '20231130'\n",
    "print('Last Period: ', start_date, end_date)\n",
    "start_date = datetime.strptime(start_date, '%Y%m%d')\n",
    "end_date = datetime.strptime(end_date, '%Y%m%d')\n",
    "start_date = (start_date + relativedelta(months=1)).replace(day=1)\n",
    "end_date = (end_date + relativedelta(months=2)).replace(day=1) - relativedelta(days=1)\n",
    "start_date = start_date.strftime('%Y%m%d')\n",
    "end_date = end_date.strftime('%Y%m%d')\n",
    "print('Current Period: ', start_date, end_date)"
   ]
  },
  {
   "cell_type": "code",
   "execution_count": null,
   "metadata": {},
   "outputs": [],
   "source": [
    "for i in range(12):  \n",
    "    df_futures_daily_dce_append = ak.get_futures_daily(start_date=start_date, end_date=end_date, market=\"DCE\")\n",
    "    df_futures_daily_dce = pd.concat([df_futures_daily_dce, df_futures_daily_dce_append], ignore_index=True)\n",
    "    print('Last Period: ', start_date, end_date)\n",
    "    start_date = datetime.strptime(start_date, '%Y%m%d')\n",
    "    end_date = datetime.strptime(end_date, '%Y%m%d')\n",
    "    start_date = (start_date + relativedelta(months=1)).replace(day=1)\n",
    "    end_date = (end_date + relativedelta(months=2)).replace(day=1) - relativedelta(days=1)\n",
    "    start_date = start_date.strftime('%Y%m%d')\n",
    "    end_date = end_date.strftime('%Y%m%d')\n",
    "    print('Current Period: ', start_date, end_date)"
   ]
  },
  {
   "cell_type": "code",
   "execution_count": null,
   "metadata": {},
   "outputs": [],
   "source": [
    "d.load_from_dataframe(df_futures_daily_dce, 'dce')"
   ]
  },
  {
   "cell_type": "markdown",
   "metadata": {},
   "source": [
    "### 郑州商品交易所"
   ]
  },
  {
   "cell_type": "code",
   "execution_count": null,
   "metadata": {},
   "outputs": [],
   "source": [
    "df_futures_daily_czce = d.get_data_by_sql('SELECT * FROM czce')\n",
    "df_futures_daily_czce.tail()"
   ]
  },
  {
   "cell_type": "code",
   "execution_count": null,
   "metadata": {},
   "outputs": [],
   "source": [
    "start_date = '20231101'\n",
    "end_date = '20231130'\n",
    "print('Last Period: ', start_date, end_date)\n",
    "start_date = datetime.strptime(start_date, '%Y%m%d')\n",
    "end_date = datetime.strptime(end_date, '%Y%m%d')\n",
    "start_date = (start_date + relativedelta(months=1)).replace(day=1)\n",
    "end_date = (end_date + relativedelta(months=2)).replace(day=1) - relativedelta(days=1)\n",
    "start_date = start_date.strftime('%Y%m%d')\n",
    "end_date = end_date.strftime('%Y%m%d')\n",
    "print('Current Period: ', start_date, end_date)"
   ]
  },
  {
   "cell_type": "code",
   "execution_count": null,
   "metadata": {},
   "outputs": [],
   "source": [
    "for i in range(12):  \n",
    "    df_futures_daily_czce_append = ak.get_futures_daily(start_date=start_date, end_date=end_date, market=\"CZCE\")\n",
    "    df_futures_daily_czce = pd.concat([df_futures_daily_czce, df_futures_daily_czce_append], ignore_index=True)\n",
    "    print('Last Period: ', start_date, end_date)\n",
    "    start_date = datetime.strptime(start_date, '%Y%m%d')\n",
    "    end_date = datetime.strptime(end_date, '%Y%m%d')\n",
    "    start_date = (start_date + relativedelta(months=1)).replace(day=1)\n",
    "    end_date = (end_date + relativedelta(months=2)).replace(day=1) - relativedelta(days=1)\n",
    "    start_date = start_date.strftime('%Y%m%d')\n",
    "    end_date = end_date.strftime('%Y%m%d')\n",
    "    print('Current Period: ', start_date, end_date)"
   ]
  },
  {
   "cell_type": "code",
   "execution_count": null,
   "metadata": {},
   "outputs": [],
   "source": [
    "d.load_from_dataframe(df_futures_daily_dce, 'czce')"
   ]
  },
  {
   "cell_type": "markdown",
   "metadata": {},
   "source": [
    "### 上海商品交易所"
   ]
  },
  {
   "cell_type": "code",
   "execution_count": 9,
   "metadata": {},
   "outputs": [
    {
     "data": {
      "text/html": [
       "<div>\n",
       "<style scoped>\n",
       "    .dataframe tbody tr th:only-of-type {\n",
       "        vertical-align: middle;\n",
       "    }\n",
       "\n",
       "    .dataframe tbody tr th {\n",
       "        vertical-align: top;\n",
       "    }\n",
       "\n",
       "    .dataframe thead th {\n",
       "        text-align: right;\n",
       "    }\n",
       "</style>\n",
       "<table border=\"1\" class=\"dataframe\">\n",
       "  <thead>\n",
       "    <tr style=\"text-align: right;\">\n",
       "      <th></th>\n",
       "      <th>symbol</th>\n",
       "      <th>date</th>\n",
       "      <th>open</th>\n",
       "      <th>high</th>\n",
       "      <th>low</th>\n",
       "      <th>close</th>\n",
       "      <th>volume</th>\n",
       "      <th>open_interest</th>\n",
       "      <th>turnover</th>\n",
       "      <th>settle</th>\n",
       "      <th>pre_settle</th>\n",
       "      <th>variety</th>\n",
       "    </tr>\n",
       "  </thead>\n",
       "  <tbody>\n",
       "    <tr>\n",
       "      <th>548369</th>\n",
       "      <td>EC2410</td>\n",
       "      <td>20231130</td>\n",
       "      <td>824.0</td>\n",
       "      <td>868.3</td>\n",
       "      <td>818.0</td>\n",
       "      <td>858.1</td>\n",
       "      <td>722</td>\n",
       "      <td>4036.0</td>\n",
       "      <td>613411.2</td>\n",
       "      <td>849.6</td>\n",
       "      <td>817.4</td>\n",
       "      <td>EC</td>\n",
       "    </tr>\n",
       "    <tr>\n",
       "      <th>548370</th>\n",
       "      <td>EC2412</td>\n",
       "      <td>20231130</td>\n",
       "      <td>881.3</td>\n",
       "      <td>947.0</td>\n",
       "      <td>881.3</td>\n",
       "      <td>935.0</td>\n",
       "      <td>84</td>\n",
       "      <td>628.0</td>\n",
       "      <td>78052.8</td>\n",
       "      <td>929.2</td>\n",
       "      <td>891.6</td>\n",
       "      <td>EC</td>\n",
       "    </tr>\n",
       "    <tr>\n",
       "      <th>548371</th>\n",
       "      <td>SC_TAS2401</td>\n",
       "      <td>20231130</td>\n",
       "      <td>NaN</td>\n",
       "      <td>NaN</td>\n",
       "      <td>NaN</td>\n",
       "      <td>0.0</td>\n",
       "      <td>0</td>\n",
       "      <td>NaN</td>\n",
       "      <td>NaN</td>\n",
       "      <td>NaN</td>\n",
       "      <td>NaN</td>\n",
       "      <td>SC_TAS</td>\n",
       "    </tr>\n",
       "    <tr>\n",
       "      <th>548372</th>\n",
       "      <td>SC_TAS2402</td>\n",
       "      <td>20231130</td>\n",
       "      <td>NaN</td>\n",
       "      <td>NaN</td>\n",
       "      <td>NaN</td>\n",
       "      <td>0.0</td>\n",
       "      <td>0</td>\n",
       "      <td>NaN</td>\n",
       "      <td>NaN</td>\n",
       "      <td>NaN</td>\n",
       "      <td>NaN</td>\n",
       "      <td>SC_TAS</td>\n",
       "    </tr>\n",
       "    <tr>\n",
       "      <th>548373</th>\n",
       "      <td>SC_TAS2403</td>\n",
       "      <td>20231130</td>\n",
       "      <td>NaN</td>\n",
       "      <td>NaN</td>\n",
       "      <td>NaN</td>\n",
       "      <td>0.0</td>\n",
       "      <td>0</td>\n",
       "      <td>NaN</td>\n",
       "      <td>NaN</td>\n",
       "      <td>NaN</td>\n",
       "      <td>NaN</td>\n",
       "      <td>SC_TAS</td>\n",
       "    </tr>\n",
       "  </tbody>\n",
       "</table>\n",
       "</div>"
      ],
      "text/plain": [
       "            symbol      date   open   high    low  close  volume  \\\n",
       "548369      EC2410  20231130  824.0  868.3  818.0  858.1     722   \n",
       "548370      EC2412  20231130  881.3  947.0  881.3  935.0      84   \n",
       "548371  SC_TAS2401  20231130    NaN    NaN    NaN    0.0       0   \n",
       "548372  SC_TAS2402  20231130    NaN    NaN    NaN    0.0       0   \n",
       "548373  SC_TAS2403  20231130    NaN    NaN    NaN    0.0       0   \n",
       "\n",
       "        open_interest  turnover  settle  pre_settle variety  \n",
       "548369         4036.0  613411.2   849.6       817.4      EC  \n",
       "548370          628.0   78052.8   929.2       891.6      EC  \n",
       "548371            NaN       NaN     NaN         NaN  SC_TAS  \n",
       "548372            NaN       NaN     NaN         NaN  SC_TAS  \n",
       "548373            NaN       NaN     NaN         NaN  SC_TAS  "
      ]
     },
     "execution_count": 9,
     "metadata": {},
     "output_type": "execute_result"
    }
   ],
   "source": [
    "df_futures_daily_shfe = d.get_data_by_sql('SELECT * FROM shfe')\n",
    "df_futures_daily_shfe.tail()"
   ]
  },
  {
   "cell_type": "code",
   "execution_count": 10,
   "metadata": {},
   "outputs": [
    {
     "name": "stdout",
     "output_type": "stream",
     "text": [
      "Last Period:  20231101 20231130\n",
      "Current Period:  20231201 20231231\n"
     ]
    }
   ],
   "source": [
    "start_date = '20231101'\n",
    "end_date = '20231130'\n",
    "print('Last Period: ', start_date, end_date)\n",
    "start_date = datetime.strptime(start_date, '%Y%m%d')\n",
    "end_date = datetime.strptime(end_date, '%Y%m%d')\n",
    "start_date = (start_date + relativedelta(months=1)).replace(day=1)\n",
    "end_date = (end_date + relativedelta(months=2)).replace(day=1) - relativedelta(days=1)\n",
    "start_date = start_date.strftime('%Y%m%d')\n",
    "end_date = end_date.strftime('%Y%m%d')\n",
    "print('Current Period: ', start_date, end_date)"
   ]
  },
  {
   "cell_type": "code",
   "execution_count": 11,
   "metadata": {},
   "outputs": [],
   "source": [
    "df_futures_daily_shfe_append = ak.get_futures_daily(start_date=start_date, end_date=end_date, market=\"SHFE\")\n",
    "df_futures_daily_shfe = pd.concat([df_futures_daily_shfe, df_futures_daily_shfe_append], ignore_index=True)"
   ]
  },
  {
   "cell_type": "code",
   "execution_count": 13,
   "metadata": {},
   "outputs": [],
   "source": [
    "d.load_from_dataframe(df_futures_daily_shfe, 'shfe')"
   ]
  },
  {
   "cell_type": "markdown",
   "metadata": {},
   "source": [
    "## 期货合约基础信息"
   ]
  },
  {
   "cell_type": "code",
   "execution_count": null,
   "metadata": {},
   "outputs": [],
   "source": [
    "futures_comm_info_df = ak.futures_comm_info(symbol=\"所有\")\n",
    "futures_comm_info_df"
   ]
  },
  {
   "cell_type": "code",
   "execution_count": 5,
   "metadata": {},
   "outputs": [],
   "source": [
    "d.load_from_dataframe(futures_comm_info_df, 'common')"
   ]
  }
 ],
 "metadata": {
  "kernelspec": {
   "display_name": "Python 3",
   "language": "python",
   "name": "python3"
  },
  "language_info": {
   "codemirror_mode": {
    "name": "ipython",
    "version": 3
   },
   "file_extension": ".py",
   "mimetype": "text/x-python",
   "name": "python",
   "nbconvert_exporter": "python",
   "pygments_lexer": "ipython3",
   "version": "3.10.9"
  }
 },
 "nbformat": 4,
 "nbformat_minor": 2
}
