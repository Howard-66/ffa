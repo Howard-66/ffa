{
 "cells": [
  {
   "cell_type": "code",
   "execution_count": 2,
   "metadata": {},
   "outputs": [],
   "source": [
    "import pandas as pd\n",
    "import akshare as ak\n",
    "from dateutil.relativedelta import relativedelta\n",
    "from datetime import datetime, date, timedelta\n",
    "import dataworks as dw"
   ]
  },
  {
   "cell_type": "code",
   "execution_count": 8,
   "metadata": {},
   "outputs": [],
   "source": [
    "dws = dw.DataWorks()"
   ]
  },
  {
   "cell_type": "markdown",
   "metadata": {},
   "source": [
    "## 期货历史合约数据"
   ]
  },
  {
   "cell_type": "markdown",
   "metadata": {},
   "source": [
    "### 大连商品交易所"
   ]
  },
  {
   "cell_type": "code",
   "execution_count": null,
   "metadata": {},
   "outputs": [],
   "source": [
    "df_futures_daily_dce = dws.get_data_by_sql('SELECT * FROM dce')\n",
    "df_futures_daily_dce['date'] = pd.to_datetime(df_futures_daily_dce['date'])\n",
    "df_futures_daily_dce.tail()"
   ]
  },
  {
   "cell_type": "code",
   "execution_count": null,
   "metadata": {},
   "outputs": [],
   "source": [
    "start_date = '20240101'\n",
    "end_date = '20240103'\n",
    "print('Last Period: ', start_date, end_date)\n",
    "start_date = datetime.strptime(start_date, '%Y%m%d')\n",
    "end_date = datetime.strptime(end_date, '%Y%m%d')\n",
    "start_date = (start_date + relativedelta(months=1)).replace(day=1)\n",
    "end_date = (end_date + relativedelta(months=2)).replace(day=1) - relativedelta(days=1)\n",
    "start_date = start_date.strftime('%Y%m%d')\n",
    "end_date = end_date.strftime('%Y%m%d')\n",
    "print('Current Period: ', start_date, end_date)"
   ]
  },
  {
   "cell_type": "code",
   "execution_count": null,
   "metadata": {},
   "outputs": [],
   "source": [
    "for i in range(12):  \n",
    "    df_futures_daily_dce_append = ak.get_futures_daily(start_date=start_date, end_date=end_date, market=\"DCE\")\n",
    "    df_futures_daily_dce = pd.concat([df_futures_daily_dce, df_futures_daily_dce_append], ignore_index=True)\n",
    "    print('Last Period: ', start_date, end_date)\n",
    "    start_date = datetime.strptime(start_date, '%Y%m%d')\n",
    "    end_date = datetime.strptime(end_date, '%Y%m%d')\n",
    "    start_date = (start_date + relativedelta(months=1)).replace(day=1)\n",
    "    end_date = (end_date + relativedelta(months=2)).replace(day=1) - relativedelta(days=1)\n",
    "    start_date = start_date.strftime('%Y%m%d')\n",
    "    end_date = end_date.strftime('%Y%m%d')\n",
    "    print('Current Period: ', start_date, end_date)"
   ]
  },
  {
   "cell_type": "code",
   "execution_count": 9,
   "metadata": {},
   "outputs": [],
   "source": [
    "dws.load_from_dataframe(df_futures_daily_dce, 'dce')"
   ]
  },
  {
   "cell_type": "code",
   "execution_count": 7,
   "metadata": {},
   "outputs": [],
   "source": [
    "start_date = df_futures_daily_dce.iloc[-1]['date'] + timedelta(days=1)\n",
    "start_date = start_date.strftime('%Y%m%d')\n",
    "end_date = datetime.now() - timedelta(days=1)\n",
    "end_date = end_date.strftime('%Y%m%d')\n",
    "df_futures_daily_dce_append = ak.get_futures_daily(start_date=start_date, end_date=end_date, market=\"DCE\")\n",
    "df_futures_daily_dce_append['date'] = pd.to_datetime(df_futures_daily_dce_append['date'], format='%Y%m%d')\n",
    "# df_futures_daily_dce = pd.concat([df_futures_daily_dce, df_futures_daily_dce_append], ignore_index=True)"
   ]
  },
  {
   "cell_type": "code",
   "execution_count": null,
   "metadata": {},
   "outputs": [],
   "source": [
    "dws.load_from_dataframe(df_futures_daily_dce_append, 'dce', 'append')"
   ]
  },
  {
   "cell_type": "markdown",
   "metadata": {},
   "source": [
    "### 郑州商品交易所"
   ]
  },
  {
   "cell_type": "code",
   "execution_count": null,
   "metadata": {},
   "outputs": [],
   "source": [
    "df_futures_daily_czce = dws.get_data_by_sql('SELECT * FROM czce')\n",
    "df_futures_daily_czce['date'] = pd.to_datetime(df_futures_daily_czce['date'])\n",
    "df_futures_daily_czce.tail()"
   ]
  },
  {
   "cell_type": "code",
   "execution_count": null,
   "metadata": {},
   "outputs": [],
   "source": [
    "start_date = '20231101'\n",
    "end_date = '20231130'\n",
    "print('Last Period: ', start_date, end_date)\n",
    "start_date = datetime.strptime(start_date, '%Y%m%d')\n",
    "end_date = datetime.strptime(end_date, '%Y%m%d')\n",
    "start_date = (start_date + relativedelta(months=1)).replace(day=1)\n",
    "end_date = (end_date + relativedelta(months=2)).replace(day=1) - relativedelta(days=1)\n",
    "start_date = start_date.strftime('%Y%m%d')\n",
    "end_date = end_date.strftime('%Y%m%d')\n",
    "print('Current Period: ', start_date, end_date)"
   ]
  },
  {
   "cell_type": "code",
   "execution_count": null,
   "metadata": {},
   "outputs": [],
   "source": [
    "for i in range(12):  \n",
    "    df_futures_daily_czce_append = ak.get_futures_daily(start_date=start_date, end_date=end_date, market=\"CZCE\")\n",
    "    df_futures_daily_czce = pd.concat([df_futures_daily_czce, df_futures_daily_czce_append], ignore_index=True)\n",
    "    print('Last Period: ', start_date, end_date)\n",
    "    start_date = datetime.strptime(start_date, '%Y%m%d')\n",
    "    end_date = datetime.strptime(end_date, '%Y%m%d')\n",
    "    start_date = (start_date + relativedelta(months=1)).replace(day=1)\n",
    "    end_date = (end_date + relativedelta(months=2)).replace(day=1) - relativedelta(days=1)\n",
    "    start_date = start_date.strftime('%Y%m%d')\n",
    "    end_date = end_date.strftime('%Y%m%d')\n",
    "    print('Current Period: ', start_date, end_date)"
   ]
  },
  {
   "cell_type": "code",
   "execution_count": 172,
   "metadata": {},
   "outputs": [],
   "source": [
    "dws.load_from_dataframe(df_futures_daily_czce, 'czce')"
   ]
  },
  {
   "cell_type": "code",
   "execution_count": 12,
   "metadata": {},
   "outputs": [],
   "source": [
    "start_date = df_futures_daily_czce.iloc[-1]['date'] + timedelta(days=1)\n",
    "start_date = start_date.strftime('%Y%m%d')\n",
    "end_date = datetime.now() - timedelta(days=1)\n",
    "end_date = end_date.strftime('%Y%m%d')\n",
    "df_futures_daily_czce_append = ak.get_futures_daily(start_date=start_date, end_date=end_date, market=\"CZCE\")\n",
    "df_futures_daily_czce_append['date'] = pd.to_datetime(df_futures_daily_czce_append['date'], format='%Y%m%d')\n",
    "# df_futures_daily_czce = pd.concat([df_futures_daily_czce, df_futures_daily_czce_append], ignore_index=True)"
   ]
  },
  {
   "cell_type": "code",
   "execution_count": 13,
   "metadata": {},
   "outputs": [],
   "source": [
    "dws.load_from_dataframe(df_futures_daily_czce_append, 'czce', 'append')"
   ]
  },
  {
   "cell_type": "markdown",
   "metadata": {},
   "source": [
    "### 上海商品交易所"
   ]
  },
  {
   "cell_type": "code",
   "execution_count": 15,
   "metadata": {},
   "outputs": [
    {
     "data": {
      "text/html": [
       "<div>\n",
       "<style scoped>\n",
       "    .dataframe tbody tr th:only-of-type {\n",
       "        vertical-align: middle;\n",
       "    }\n",
       "\n",
       "    .dataframe tbody tr th {\n",
       "        vertical-align: top;\n",
       "    }\n",
       "\n",
       "    .dataframe thead th {\n",
       "        text-align: right;\n",
       "    }\n",
       "</style>\n",
       "<table border=\"1\" class=\"dataframe\">\n",
       "  <thead>\n",
       "    <tr style=\"text-align: right;\">\n",
       "      <th></th>\n",
       "      <th>symbol</th>\n",
       "      <th>date</th>\n",
       "      <th>open</th>\n",
       "      <th>high</th>\n",
       "      <th>low</th>\n",
       "      <th>close</th>\n",
       "      <th>volume</th>\n",
       "      <th>open_interest</th>\n",
       "      <th>turnover</th>\n",
       "      <th>settle</th>\n",
       "      <th>pre_settle</th>\n",
       "      <th>variety</th>\n",
       "    </tr>\n",
       "  </thead>\n",
       "  <tbody>\n",
       "    <tr>\n",
       "      <th>554209</th>\n",
       "      <td>EC2410</td>\n",
       "      <td>2023-12-29</td>\n",
       "      <td>1174</td>\n",
       "      <td>1275.7</td>\n",
       "      <td>1130</td>\n",
       "      <td>1248.2</td>\n",
       "      <td>25181</td>\n",
       "      <td>9400</td>\n",
       "      <td>30395985.1</td>\n",
       "      <td>1207.1</td>\n",
       "      <td>1151.3</td>\n",
       "      <td>EC</td>\n",
       "    </tr>\n",
       "    <tr>\n",
       "      <th>554210</th>\n",
       "      <td>EC2412</td>\n",
       "      <td>2023-12-29</td>\n",
       "      <td>1249.9</td>\n",
       "      <td>1330</td>\n",
       "      <td>1193.9</td>\n",
       "      <td>1298.0</td>\n",
       "      <td>9773</td>\n",
       "      <td>5657</td>\n",
       "      <td>12313980</td>\n",
       "      <td>1260</td>\n",
       "      <td>1213</td>\n",
       "      <td>EC</td>\n",
       "    </tr>\n",
       "    <tr>\n",
       "      <th>554211</th>\n",
       "      <td>SC_TAS2402</td>\n",
       "      <td>2023-12-29</td>\n",
       "      <td></td>\n",
       "      <td></td>\n",
       "      <td></td>\n",
       "      <td>0.0</td>\n",
       "      <td>0</td>\n",
       "      <td></td>\n",
       "      <td></td>\n",
       "      <td></td>\n",
       "      <td></td>\n",
       "      <td>SC_TAS</td>\n",
       "    </tr>\n",
       "    <tr>\n",
       "      <th>554212</th>\n",
       "      <td>SC_TAS2403</td>\n",
       "      <td>2023-12-29</td>\n",
       "      <td></td>\n",
       "      <td></td>\n",
       "      <td></td>\n",
       "      <td>0.0</td>\n",
       "      <td>0</td>\n",
       "      <td></td>\n",
       "      <td></td>\n",
       "      <td></td>\n",
       "      <td></td>\n",
       "      <td>SC_TAS</td>\n",
       "    </tr>\n",
       "    <tr>\n",
       "      <th>554213</th>\n",
       "      <td>SC_TAS2404</td>\n",
       "      <td>2023-12-29</td>\n",
       "      <td></td>\n",
       "      <td></td>\n",
       "      <td></td>\n",
       "      <td>0.0</td>\n",
       "      <td>0</td>\n",
       "      <td></td>\n",
       "      <td></td>\n",
       "      <td></td>\n",
       "      <td></td>\n",
       "      <td>SC_TAS</td>\n",
       "    </tr>\n",
       "  </tbody>\n",
       "</table>\n",
       "</div>"
      ],
      "text/plain": [
       "            symbol       date    open    high     low   close  volume  \\\n",
       "554209      EC2410 2023-12-29    1174  1275.7    1130  1248.2   25181   \n",
       "554210      EC2412 2023-12-29  1249.9    1330  1193.9  1298.0    9773   \n",
       "554211  SC_TAS2402 2023-12-29                             0.0       0   \n",
       "554212  SC_TAS2403 2023-12-29                             0.0       0   \n",
       "554213  SC_TAS2404 2023-12-29                             0.0       0   \n",
       "\n",
       "       open_interest    turnover  settle pre_settle variety  \n",
       "554209          9400  30395985.1  1207.1     1151.3      EC  \n",
       "554210          5657    12313980    1260       1213      EC  \n",
       "554211                                               SC_TAS  \n",
       "554212                                               SC_TAS  \n",
       "554213                                               SC_TAS  "
      ]
     },
     "execution_count": 15,
     "metadata": {},
     "output_type": "execute_result"
    }
   ],
   "source": [
    "df_futures_daily_shfe = dws.get_data_by_sql('SELECT * FROM shfe')\n",
    "df_futures_daily_shfe['date'] = pd.to_datetime(df_futures_daily_shfe['date'])\n",
    "df_futures_daily_shfe.tail()"
   ]
  },
  {
   "cell_type": "code",
   "execution_count": null,
   "metadata": {},
   "outputs": [],
   "source": [
    "start_date = '20231101'\n",
    "end_date = '20231130'\n",
    "print('Last Period: ', start_date, end_date)\n",
    "start_date = datetime.strptime(start_date, '%Y%m%d')\n",
    "end_date = datetime.strptime(end_date, '%Y%m%d')\n",
    "start_date = (start_date + relativedelta(months=1)).replace(day=1)\n",
    "end_date = (end_date + relativedelta(months=2)).replace(day=1) - relativedelta(days=1)\n",
    "start_date = start_date.strftime('%Y%m%d')\n",
    "end_date = end_date.strftime('%Y%m%d')\n",
    "print('Current Period: ', start_date, end_date)"
   ]
  },
  {
   "cell_type": "code",
   "execution_count": 11,
   "metadata": {},
   "outputs": [],
   "source": [
    "df_futures_daily_shfe_append = ak.get_futures_daily(start_date=start_date, end_date=end_date, market=\"SHFE\")\n",
    "df_futures_daily_shfe = pd.concat([df_futures_daily_shfe, df_futures_daily_shfe_append], ignore_index=True)"
   ]
  },
  {
   "cell_type": "code",
   "execution_count": 176,
   "metadata": {},
   "outputs": [],
   "source": [
    "dws.load_from_dataframe(df_futures_daily_shfe, 'shfe')"
   ]
  },
  {
   "cell_type": "code",
   "execution_count": 17,
   "metadata": {},
   "outputs": [],
   "source": [
    "start_date = df_futures_daily_shfe.iloc[-1]['date'] + timedelta(days=1)\n",
    "start_date = start_date.strftime('%Y%m%d')\n",
    "end_date = datetime.now() - timedelta(days=1)\n",
    "end_date = end_date.strftime('%Y%m%d')\n",
    "df_futures_daily_shfe_append = ak.get_futures_daily(start_date=start_date, end_date=end_date, market=\"SHFE\")\n",
    "df_futures_daily_shfe_append['date'] = pd.to_datetime(df_futures_daily_shfe_append['date'], format='%Y%m%d')\n",
    "# df_futures_daily_shfe = pd.concat([df_futures_daily_shfe, df_futures_daily_czce_append], ignore_index=True)"
   ]
  },
  {
   "cell_type": "code",
   "execution_count": 18,
   "metadata": {},
   "outputs": [],
   "source": [
    "dws.load_from_dataframe(df_futures_daily_shfe_append, 'shfe', 'append')"
   ]
  },
  {
   "cell_type": "markdown",
   "metadata": {},
   "source": [
    "## 期货合约基础信息"
   ]
  },
  {
   "cell_type": "markdown",
   "metadata": {},
   "source": [
    "### 合约基础信息"
   ]
  },
  {
   "cell_type": "code",
   "execution_count": null,
   "metadata": {},
   "outputs": [],
   "source": [
    "futures_comm_info_df = ak.futures_comm_info(symbol=\"所有\")\n",
    "futures_comm_info_df"
   ]
  },
  {
   "cell_type": "code",
   "execution_count": 5,
   "metadata": {},
   "outputs": [],
   "source": [
    "dws.load_from_dataframe(futures_comm_info_df, 'common')"
   ]
  },
  {
   "cell_type": "markdown",
   "metadata": {},
   "source": [
    "### 全品种信息"
   ]
  },
  {
   "cell_type": "code",
   "execution_count": 67,
   "metadata": {},
   "outputs": [],
   "source": [
    "symbol_list = ak.futures_index_symbol_table_nh()\n",
    "symbol_list = symbol_list[symbol_list['exchange'].isin(['郑州商品交易所', '大连商品交易所', '上海期货交易所'])]\n",
    "symbol_list = symbol_list.drop('indexcategory', axis=1)\n",
    "exchange_replace_dict = {'郑州商品交易所': 'czce',\n",
    "                         '大连商品交易所': 'dce',\n",
    "                         '上海期货交易所': 'shfe'}\n",
    "symbol_list['exchange'] = symbol_list['exchange'].apply(lambda x: exchange_replace_dict.get(x, x))"
   ]
  },
  {
   "cell_type": "code",
   "execution_count": null,
   "metadata": {},
   "outputs": [],
   "source": [
    "dws.load_from_dataframe(symbol_list, 'symbols')"
   ]
  },
  {
   "cell_type": "code",
   "execution_count": 3,
   "metadata": {},
   "outputs": [],
   "source": [
    "symbol_list = dws.get_data_by_sql('SELECT * FROM symbols')"
   ]
  },
  {
   "cell_type": "markdown",
   "metadata": {},
   "source": [
    "### 主力合约"
   ]
  },
  {
   "cell_type": "code",
   "execution_count": null,
   "metadata": {},
   "outputs": [],
   "source": [
    "domain_contract_list = ak.match_main_contract(symbol='shfe')\n",
    "domain_contract_list"
   ]
  },
  {
   "cell_type": "code",
   "execution_count": 31,
   "metadata": {},
   "outputs": [
    {
     "data": {
      "text/html": [
       "<div>\n",
       "<style scoped>\n",
       "    .dataframe tbody tr th:only-of-type {\n",
       "        vertical-align: middle;\n",
       "    }\n",
       "\n",
       "    .dataframe tbody tr th {\n",
       "        vertical-align: top;\n",
       "    }\n",
       "\n",
       "    .dataframe thead th {\n",
       "        text-align: right;\n",
       "    }\n",
       "</style>\n",
       "<table border=\"1\" class=\"dataframe\">\n",
       "  <thead>\n",
       "    <tr style=\"text-align: right;\">\n",
       "      <th></th>\n",
       "      <th>symbol</th>\n",
       "      <th>exchange</th>\n",
       "      <th>name</th>\n",
       "    </tr>\n",
       "  </thead>\n",
       "  <tbody>\n",
       "    <tr>\n",
       "      <th>0</th>\n",
       "      <td>V0</td>\n",
       "      <td>dce</td>\n",
       "      <td>PVC连续</td>\n",
       "    </tr>\n",
       "    <tr>\n",
       "      <th>1</th>\n",
       "      <td>P0</td>\n",
       "      <td>dce</td>\n",
       "      <td>棕榈油连续</td>\n",
       "    </tr>\n",
       "    <tr>\n",
       "      <th>2</th>\n",
       "      <td>B0</td>\n",
       "      <td>dce</td>\n",
       "      <td>豆二连续</td>\n",
       "    </tr>\n",
       "    <tr>\n",
       "      <th>3</th>\n",
       "      <td>M0</td>\n",
       "      <td>dce</td>\n",
       "      <td>豆粕连续</td>\n",
       "    </tr>\n",
       "    <tr>\n",
       "      <th>4</th>\n",
       "      <td>I0</td>\n",
       "      <td>dce</td>\n",
       "      <td>铁矿石连续</td>\n",
       "    </tr>\n",
       "    <tr>\n",
       "      <th>...</th>\n",
       "      <td>...</td>\n",
       "      <td>...</td>\n",
       "      <td>...</td>\n",
       "    </tr>\n",
       "    <tr>\n",
       "      <th>58</th>\n",
       "      <td>NI0</td>\n",
       "      <td>shfe</td>\n",
       "      <td>镍连续</td>\n",
       "    </tr>\n",
       "    <tr>\n",
       "      <th>59</th>\n",
       "      <td>SP0</td>\n",
       "      <td>shfe</td>\n",
       "      <td>纸浆连续</td>\n",
       "    </tr>\n",
       "    <tr>\n",
       "      <th>61</th>\n",
       "      <td>SS0</td>\n",
       "      <td>shfe</td>\n",
       "      <td>不锈钢连续</td>\n",
       "    </tr>\n",
       "    <tr>\n",
       "      <th>64</th>\n",
       "      <td>AO0</td>\n",
       "      <td>shfe</td>\n",
       "      <td>氧化铝连续</td>\n",
       "    </tr>\n",
       "    <tr>\n",
       "      <th>65</th>\n",
       "      <td>BR0</td>\n",
       "      <td>shfe</td>\n",
       "      <td>丁二烯橡胶连续</td>\n",
       "    </tr>\n",
       "  </tbody>\n",
       "</table>\n",
       "<p>62 rows × 3 columns</p>\n",
       "</div>"
      ],
      "text/plain": [
       "   symbol exchange     name\n",
       "0      V0      dce    PVC连续\n",
       "1      P0      dce    棕榈油连续\n",
       "2      B0      dce     豆二连续\n",
       "3      M0      dce     豆粕连续\n",
       "4      I0      dce    铁矿石连续\n",
       "..    ...      ...      ...\n",
       "58    NI0     shfe      镍连续\n",
       "59    SP0     shfe     纸浆连续\n",
       "61    SS0     shfe    不锈钢连续\n",
       "64    AO0     shfe    氧化铝连续\n",
       "65    BR0     shfe  丁二烯橡胶连续\n",
       "\n",
       "[62 rows x 3 columns]"
      ]
     },
     "execution_count": 31,
     "metadata": {},
     "output_type": "execute_result"
    }
   ],
   "source": [
    "contract_list = ak.futures_display_main_sina()\n",
    "contract_list = contract_list[contract_list['exchange'].isin(['czce', 'dce', 'shfe'])]\n",
    "contract_list"
   ]
  },
  {
   "cell_type": "markdown",
   "metadata": {},
   "source": [
    "#### 全量/时间段下载"
   ]
  },
  {
   "cell_type": "code",
   "execution_count": 20,
   "metadata": {},
   "outputs": [],
   "source": [
    "main_contract_data = []\n",
    "for _, contract in contract_list.iterrows():\n",
    "    symbol_hist = ak.futures_main_sina(symbol=contract['symbol'], start_date=\"20110101\", end_date=\"20231231\")\n",
    "    symbol_hist['variety'] = contract['symbol']\n",
    "    main_contract_data.append(symbol_hist)\n",
    "merged_main_contracts = pd.concat(main_contract_data)\n",
    "merged_main_contracts.rename(columns={'日期': 'date'}, inplace=True)"
   ]
  },
  {
   "cell_type": "code",
   "execution_count": 21,
   "metadata": {},
   "outputs": [],
   "source": [
    "combined_main = merged_main_contracts.drop_duplicates(subset=['date', 'variety'], keep='last')\n",
    "merged_main_contracts['date'] = pd.to_datetime(merged_main_contracts['date'])\n",
    "merged_main_contracts['variety'] = merged_main_contracts['variety'].str.rstrip('0')"
   ]
  },
  {
   "cell_type": "code",
   "execution_count": 147,
   "metadata": {},
   "outputs": [],
   "source": [
    "# 注意调整mode参数，全量下载使用‘replace’，增量下载使用‘append’\n",
    "dws.load_from_dataframe(combined_main, 'dominant')"
   ]
  },
  {
   "cell_type": "markdown",
   "metadata": {},
   "source": [
    "#### 自动补齐下载"
   ]
  },
  {
   "cell_type": "code",
   "execution_count": 14,
   "metadata": {},
   "outputs": [],
   "source": [
    "existed_contract_data = dws.get_data_by_sql('SELECT * FROM dominant')"
   ]
  },
  {
   "cell_type": "code",
   "execution_count": 32,
   "metadata": {},
   "outputs": [],
   "source": [
    "existed_contract_data['date'] = pd.to_datetime(existed_contract_data['date'])\n",
    "start_date = existed_contract_data.iloc[-1]['date'] + timedelta(days=1)\n",
    "start_date = start_date.strftime('%Y%m%d')\n",
    "end_date = datetime.now() - timedelta(days=1)\n",
    "end_date = end_date.strftime('%Y%m%d')\n",
    "main_contract_data = []\n",
    "for symbol in contract_list['symbol']:\n",
    "    symbol_hist = ak.futures_main_sina(symbol=symbol, start_date=start_date, end_date=end_date)\n",
    "    symbol_hist['variety'] = symbol\n",
    "    main_contract_data.append(symbol_hist)\n",
    "merged_main_contracts = pd.concat(main_contract_data)\n",
    "merged_main_contracts.rename(columns={'日期': 'date'}, inplace=True)\n",
    "merged_main_contracts['date'] = pd.to_datetime(merged_main_contracts['date'])\n",
    "merged_main_contracts['variety'] = merged_main_contracts['variety'].str.rstrip('0')\n",
    "# combined_main = merged_main_contracts.drop_duplicates(subset=['日期', 'variety'], keep='last')"
   ]
  },
  {
   "cell_type": "code",
   "execution_count": null,
   "metadata": {},
   "outputs": [],
   "source": [
    "dws.load_from_dataframe(merged_main_contracts, 'dominant', 'append')"
   ]
  },
  {
   "cell_type": "markdown",
   "metadata": {},
   "source": [
    "## 库存数据"
   ]
  },
  {
   "cell_type": "code",
   "execution_count": 7,
   "metadata": {},
   "outputs": [],
   "source": [
    "# 库存数据来源于“东方财富网”，商品名称与常规命名有出入，通过字典映射\n",
    "symbol_replace_dict = {'鲜苹果': '苹果',\n",
    "                       '棉花': '郑棉',\n",
    "                       '动力煤': '郑煤',\n",
    "                       '早籼稻': '早籼',\n",
    "                       '烧碱': '纯碱',\n",
    "                       '郑醇': '甲醇',\n",
    "                       '晚籼稻': '晚籼',\n",
    "                       'PP': '聚丙烯',\n",
    "                       '大豆': '豆一',\n",
    "                       '铝': '沪铝',\n",
    "                       '铜': '沪铜',\n",
    "                       '锌': '沪锌',\n",
    "                       '棕榈油': '棕榈',\n",
    "                       '黄金': '沪金',\n",
    "                       '铅': '沪铅',\n",
    "                       '白银': '沪银',\n",
    "                       '菜籽油': '菜油',\n",
    "                       '油菜籽': '菜籽',\n",
    "                       '菜籽粕': '菜粕',\n",
    "                       '热轧卷板': '热卷',\n",
    "                       '沪锡': '锡',\n",
    "                       '沪镍': '镍',\n",
    "                       }\n",
    "symbol_list['name'] = symbol_list['name'].apply(lambda x: symbol_replace_dict.get(x, x))"
   ]
  },
  {
   "cell_type": "code",
   "execution_count": null,
   "metadata": {},
   "outputs": [],
   "source": [
    "inventory_data = []\n",
    "ignore_symbol = ['线材', '胶合板', '纤维板', '郑煤']\n",
    "# ignore_symbol = []\n",
    "for symbol in symbol_list['name']:\n",
    "   print(symbol)\n",
    "   if symbol in ignore_symbol:\n",
    "      continue\n",
    "   symbol_data = ak.futures_inventory_em(symbol=symbol)\n",
    "   symbol_data['variety'] = symbol\n",
    "   inventory_data.append(symbol_data)\n",
    "merged_data = pd.concat(inventory_data)\n",
    "symbol_mapping_dict = dict(zip(symbol_list['name'], symbol_list['code']))\n",
    "merged_data['variety'] = merged_data['variety'].apply(lambda x: symbol_mapping_dict.get(x, x))\n",
    "merged_data.rename(columns={'日期': 'date'}, inplace=True)\n",
    "merged_data['date'] = pd.to_datetime(merged_data['date'])"
   ]
  },
  {
   "cell_type": "code",
   "execution_count": 122,
   "metadata": {},
   "outputs": [],
   "source": [
    "# 更新时按日期去重\n",
    "old_inventory_data = dws.get_data_by_sql('SELECT * FROM inventory')\n",
    "old_inventory_data['date'] = pd.to_datetime(old_inventory_data['date'])\n",
    "combined_df = pd.concat([old_inventory_data, merged_data])\n",
    "combined_df = combined_df.drop_duplicates(subset=['date', 'variety'], keep='last')"
   ]
  },
  {
   "cell_type": "code",
   "execution_count": 36,
   "metadata": {},
   "outputs": [],
   "source": [
    "dws.load_from_dataframe(combined_df, 'inventory')"
   ]
  },
  {
   "cell_type": "code",
   "execution_count": null,
   "metadata": {},
   "outputs": [],
   "source": [
    "futures_inventory_em_df = ak.futures_inventory_em(symbol=\"郑煤\")\n",
    "futures_inventory_em_df"
   ]
  },
  {
   "cell_type": "markdown",
   "metadata": {},
   "source": [
    "### 注册仓单"
   ]
  },
  {
   "cell_type": "code",
   "execution_count": 4,
   "metadata": {},
   "outputs": [],
   "source": [
    "code_list = list(symbol_list['code'])"
   ]
  },
  {
   "cell_type": "code",
   "execution_count": 4,
   "metadata": {},
   "outputs": [],
   "source": [
    "dce =  ['C', 'CS', 'A', 'B', 'M', 'Y', 'P', 'FB', 'BB', 'JD', 'L', 'V', 'PP', 'J', 'JM', 'I', 'EG', 'RR', 'EB', 'PG', 'LH'] \n",
    "dce_in = ['A', 'M', 'C', 'Y', 'L', 'P', 'V', 'J', 'JM', 'I', 'JD', 'BB', 'FB', 'PP', 'CS', 'EG', 'RR', 'B', 'EB']\n",
    "czce = ['WH', 'PM', 'CF', 'SR', 'TA', 'OI', 'RI', 'MA', 'ME', 'FG', 'RS', 'RM', 'ZC', 'JR', 'LR', 'SF', 'SM', 'WT', 'TC', 'GN', 'RO', 'ER', 'SRX', 'SRY', 'WSX', 'WSY', 'CY', 'AP', 'UR', 'CJ', 'SA', 'PK', 'PF', 'PX', 'SH'] \n",
    "czce_in = ['CF', 'SR', 'TA', 'PM', 'RO', 'ER', 'FG', 'RS', 'RM', 'JR', 'LR', 'SM', 'SF', 'ME', 'TC', 'CY', 'AP', 'CJ', 'UR', 'SA']\n",
    "shfe = ['CU', 'AL', 'ZN', 'PB', 'NI', 'SN', 'AU', 'AG', 'RB', 'WR', 'HC', 'FU', 'BU', 'RU', 'SC', 'NR', 'SP', 'SS', 'LU', 'BC', 'AO', 'BR', 'EC']"
   ]
  },
  {
   "cell_type": "code",
   "execution_count": 15,
   "metadata": {},
   "outputs": [
    {
     "name": "stdout",
     "output_type": "stream",
     "text": [
      "21 19 0 []\n"
     ]
    }
   ],
   "source": [
    "set1 = set(dce)\n",
    "set2 = set(dce_in)\n",
    "diff = set2 - set1\n",
    "result = list(diff)\n",
    "print(len(dce), len(dce_in), len(result), result)"
   ]
  },
  {
   "cell_type": "code",
   "execution_count": 24,
   "metadata": {},
   "outputs": [
    {
     "data": {
      "text/html": [
       "<div>\n",
       "<style scoped>\n",
       "    .dataframe tbody tr th:only-of-type {\n",
       "        vertical-align: middle;\n",
       "    }\n",
       "\n",
       "    .dataframe tbody tr th {\n",
       "        vertical-align: top;\n",
       "    }\n",
       "\n",
       "    .dataframe thead th {\n",
       "        text-align: right;\n",
       "    }\n",
       "</style>\n",
       "<table border=\"1\" class=\"dataframe\">\n",
       "  <thead>\n",
       "    <tr style=\"text-align: right;\">\n",
       "      <th></th>\n",
       "      <th>variety</th>\n",
       "      <th>receipt</th>\n",
       "      <th>receipt_chg</th>\n",
       "      <th>date</th>\n",
       "    </tr>\n",
       "  </thead>\n",
       "  <tbody>\n",
       "    <tr>\n",
       "      <th>0</th>\n",
       "      <td>C</td>\n",
       "      <td>1350</td>\n",
       "      <td>0</td>\n",
       "      <td>2011-01-04 00:00:00</td>\n",
       "    </tr>\n",
       "    <tr>\n",
       "      <th>1</th>\n",
       "      <td>A</td>\n",
       "      <td>12586</td>\n",
       "      <td>0</td>\n",
       "      <td>2011-01-04 00:00:00</td>\n",
       "    </tr>\n",
       "    <tr>\n",
       "      <th>2</th>\n",
       "      <td>Y</td>\n",
       "      <td>745</td>\n",
       "      <td>745</td>\n",
       "      <td>2011-01-04 00:00:00</td>\n",
       "    </tr>\n",
       "    <tr>\n",
       "      <th>3</th>\n",
       "      <td>L</td>\n",
       "      <td>27743</td>\n",
       "      <td>95</td>\n",
       "      <td>2011-01-04 00:00:00</td>\n",
       "    </tr>\n",
       "    <tr>\n",
       "      <th>4</th>\n",
       "      <td>V</td>\n",
       "      <td>3784</td>\n",
       "      <td>0</td>\n",
       "      <td>2011-01-04 00:00:00</td>\n",
       "    </tr>\n",
       "    <tr>\n",
       "      <th>...</th>\n",
       "      <td>...</td>\n",
       "      <td>...</td>\n",
       "      <td>...</td>\n",
       "      <td>...</td>\n",
       "    </tr>\n",
       "    <tr>\n",
       "      <th>111286</th>\n",
       "      <td>CJ</td>\n",
       "      <td>15124</td>\n",
       "      <td>1006</td>\n",
       "      <td>20240104</td>\n",
       "    </tr>\n",
       "    <tr>\n",
       "      <th>111287</th>\n",
       "      <td>SA</td>\n",
       "      <td>0</td>\n",
       "      <td>0</td>\n",
       "      <td>20240104</td>\n",
       "    </tr>\n",
       "    <tr>\n",
       "      <th>111288</th>\n",
       "      <td>PK</td>\n",
       "      <td>0</td>\n",
       "      <td>0</td>\n",
       "      <td>20240104</td>\n",
       "    </tr>\n",
       "    <tr>\n",
       "      <th>111289</th>\n",
       "      <td>PK</td>\n",
       "      <td>1030</td>\n",
       "      <td>0</td>\n",
       "      <td>20240104</td>\n",
       "    </tr>\n",
       "    <tr>\n",
       "      <th>111290</th>\n",
       "      <td>PF</td>\n",
       "      <td>6936</td>\n",
       "      <td>0</td>\n",
       "      <td>20240104</td>\n",
       "    </tr>\n",
       "  </tbody>\n",
       "</table>\n",
       "<p>111291 rows × 4 columns</p>\n",
       "</div>"
      ],
      "text/plain": [
       "       variety  receipt  receipt_chg                 date\n",
       "0            C     1350            0  2011-01-04 00:00:00\n",
       "1            A    12586            0  2011-01-04 00:00:00\n",
       "2            Y      745          745  2011-01-04 00:00:00\n",
       "3            L    27743           95  2011-01-04 00:00:00\n",
       "4            V     3784            0  2011-01-04 00:00:00\n",
       "...        ...      ...          ...                  ...\n",
       "111286      CJ    15124         1006             20240104\n",
       "111287      SA        0            0             20240104\n",
       "111288      PK        0            0             20240104\n",
       "111289      PK     1030            0             20240104\n",
       "111290      PF     6936            0             20240104\n",
       "\n",
       "[111291 rows x 4 columns]"
      ]
     },
     "execution_count": 24,
     "metadata": {},
     "output_type": "execute_result"
    }
   ],
   "source": [
    "# 查看数据库中的仓单数据\n",
    "df_receipt = dws.get_data_by_sql('SELECT * FROM receipt')\n",
    "df_receipt['date'] = pd.to_datetime(df_receipt['date'], format='%Y%m%d')\n",
    "df_receipt"
   ]
  },
  {
   "cell_type": "markdown",
   "metadata": {},
   "source": [
    "#### DCE注册仓单下载"
   ]
  },
  {
   "cell_type": "code",
   "execution_count": 252,
   "metadata": {},
   "outputs": [],
   "source": [
    "df_receipt_dce = pd.DataFrame()"
   ]
  },
  {
   "cell_type": "code",
   "execution_count": 253,
   "metadata": {},
   "outputs": [],
   "source": [
    "start_date=\"20150307\"\n",
    "end_date=\"20150310\""
   ]
  },
  {
   "cell_type": "code",
   "execution_count": null,
   "metadata": {},
   "outputs": [],
   "source": [
    "df_receipt_dce_append = ak.get_receipt(start_day=start_date, end_day=end_date, vars_list=dce)\n",
    "df_receipt_dce = pd.concat([df_receipt_dce, df_receipt_dce_append], ignore_index=True)"
   ]
  },
  {
   "cell_type": "code",
   "execution_count": 301,
   "metadata": {},
   "outputs": [],
   "source": [
    "# 按时间去重\n",
    "combined_df = df_receipt_dce.drop_duplicates(subset=['date', 'var'], keep='first')"
   ]
  },
  {
   "cell_type": "code",
   "execution_count": 106,
   "metadata": {},
   "outputs": [],
   "source": [
    "df_receipt_dce = combined_df"
   ]
  },
  {
   "cell_type": "code",
   "execution_count": null,
   "metadata": {},
   "outputs": [],
   "source": [
    "# 按月下载\n",
    "for i in range(12):  \n",
    "    df_receipt_dce_append = ak.get_receipt(start_day=start_date, end_day=end_date, vars_list=dce)\n",
    "    df_receipt_dce = pd.concat([df_receipt_dce, df_receipt_dce_append], ignore_index=True)\n",
    "    print('Last Period: ', start_date, end_date)\n",
    "    start_date = datetime.strptime(start_date, '%Y%m%d')\n",
    "    end_date = datetime.strptime(end_date, '%Y%m%d')\n",
    "    start_date = (start_date + relativedelta(months=1)).replace(day=1)\n",
    "    end_date = (end_date + relativedelta(months=2)).replace(day=1) - relativedelta(days=1)\n",
    "    start_date = start_date.strftime('%Y%m%d')\n",
    "    end_date = end_date.strftime('%Y%m%d')\n",
    "    print('Current Period: ', start_date, end_date)"
   ]
  },
  {
   "cell_type": "code",
   "execution_count": null,
   "metadata": {},
   "outputs": [],
   "source": [
    "# 每3天下载\n",
    "for i in range(360): \n",
    "   df_receipt_dce_append = ak.get_receipt(start_day=start_date, end_day=end_date, vars_list=dce)\n",
    "   df_receipt_dce = pd.concat([df_receipt_dce, df_receipt_dce_append], ignore_index=True)\n",
    "   print('Last Period: ', start_date, end_date)\n",
    "   start_date = datetime.strptime(start_date, '%Y%m%d')\n",
    "   end_date = datetime.strptime(end_date, '%Y%m%d')\n",
    "   start_date = (end_date + relativedelta(days=1)).strftime('%Y%m%d')\n",
    "   end_date = (end_date + relativedelta(days=3)).strftime('%Y%m%d')\n",
    "   # start_date = start_date.strftime('%Y%m%d')\n",
    "   # end_date = end_date.strftime('%Y%m%d')   \n",
    "   print('Current Period: ', start_date, end_date)"
   ]
  },
  {
   "cell_type": "code",
   "execution_count": 248,
   "metadata": {},
   "outputs": [],
   "source": [
    "dws.load_from_dataframe(df_receipt_dce, 'receipt')"
   ]
  },
  {
   "cell_type": "code",
   "execution_count": 303,
   "metadata": {},
   "outputs": [],
   "source": [
    "df_receipt_dce.rename(columns={'var': 'variety'}, inplace=True)\n",
    "dws.load_from_dataframe(df_receipt_dce, 'receipt', 'append')"
   ]
  },
  {
   "cell_type": "markdown",
   "metadata": {},
   "source": [
    "#### CZCE注册仓单下载"
   ]
  },
  {
   "cell_type": "code",
   "execution_count": null,
   "metadata": {},
   "outputs": [],
   "source": [
    "df_receipt_czce = ak.get_receipt(start_day=\"20151112\", end_day=\"20151231\", vars_list=czce)"
   ]
  },
  {
   "cell_type": "code",
   "execution_count": null,
   "metadata": {},
   "outputs": [],
   "source": [
    "df_receipt_czce_append = ak.get_receipt(start_day=\"20220101\", end_day=\"20240104\", vars_list=czce)\n",
    "df_receipt_czce = pd.concat([df_receipt_czce, df_receipt_czce_append], ignore_index=True)"
   ]
  },
  {
   "cell_type": "code",
   "execution_count": 329,
   "metadata": {},
   "outputs": [],
   "source": [
    "df_receipt_czce.rename(columns={'var': 'variety'}, inplace=True)\n",
    "dws.load_from_dataframe(df_receipt_czce, 'receipt', 'append')"
   ]
  },
  {
   "cell_type": "markdown",
   "metadata": {},
   "source": [
    "#### SHFE注册仓单下载"
   ]
  },
  {
   "cell_type": "code",
   "execution_count": null,
   "metadata": {},
   "outputs": [],
   "source": [
    "df_receipt_shfe = ak.get_receipt(start_day=\"20140517\", end_day=\"20141231\", vars_list=shfe)"
   ]
  },
  {
   "cell_type": "code",
   "execution_count": null,
   "metadata": {},
   "outputs": [],
   "source": [
    "df_receipt_shfe_append = ak.get_receipt(start_day=\"20210101\", end_day=\"20240104\", vars_list=shfe)\n",
    "df_receipt_shfe = pd.concat([df_receipt_shfe, df_receipt_shfe_append], ignore_index=True)"
   ]
  },
  {
   "cell_type": "code",
   "execution_count": 321,
   "metadata": {},
   "outputs": [],
   "source": [
    "df_receipt_shfe.rename(columns={'var': 'variety'}, inplace=True)\n",
    "dws.load_from_dataframe(df_receipt_shfe, 'receipt', 'append')"
   ]
  },
  {
   "cell_type": "markdown",
   "metadata": {},
   "source": [
    "## 基差数据"
   ]
  },
  {
   "cell_type": "markdown",
   "metadata": {},
   "source": [
    "### 接口调用示例"
   ]
  },
  {
   "cell_type": "code",
   "execution_count": null,
   "metadata": {},
   "outputs": [],
   "source": [
    "futures_spot_price_df = ak.futures_spot_price(\"20211025\")\n",
    "futures_spot_price_df"
   ]
  },
  {
   "cell_type": "markdown",
   "metadata": {},
   "source": [
    "### 按时间段补充数据"
   ]
  },
  {
   "cell_type": "code",
   "execution_count": null,
   "metadata": {},
   "outputs": [],
   "source": [
    "# 创建一个日期列表，包括今年的所有日期\n",
    "start_date = date(2023, 1, 1)\n",
    "end_date = date(2023, 12, 31)\n",
    "delta = timedelta(days=1)\n",
    "dates = []\n",
    "while start_date <= end_date:\n",
    "   dates.append(start_date.strftime(\"%Y%m%d\"))\n",
    "   start_date += delta\n",
    "\n",
    "# 初始化一个空的DataFrame来存储所有的数据\n",
    "all_data = pd.DataFrame()\n",
    "\n",
    "# 对每个日期调用ak.futures_spot_price()函数，并将结果添加到all_data中\n",
    "for d in dates:\n",
    "   df = ak.futures_spot_price(d)\n",
    "   all_data = pd.concat([all_data, df], ignore_index=True)\n",
    "all_data.rename(columns={'symbol': 'variety'}, inplace=True)\n",
    "all_data['date'] = pd.to_datetime(all_data['date'], format='%Y%m%d')\n",
    "# 纠正AKShare基差/基差率计算错误（正负号）\n",
    "all_data['near_basis'] = -all_data['near_basis']\n",
    "all_data['dom_basis'] = -all_data['dom_basis']\n",
    "all_data['near_basis_rate'] = -all_data['near_basis_rate']\n",
    "all_data['dom_basis_rate'] = -all_data['dom_basis_rate']\n",
    "# 打印所有的数据\n",
    "print(all_data)"
   ]
  },
  {
   "cell_type": "code",
   "execution_count": 132,
   "metadata": {},
   "outputs": [],
   "source": [
    "dws.load_from_dataframe(all_data, 'basis', 'append')"
   ]
  },
  {
   "cell_type": "markdown",
   "metadata": {},
   "source": [
    "#### 自动补全数据"
   ]
  },
  {
   "cell_type": "code",
   "execution_count": null,
   "metadata": {},
   "outputs": [],
   "source": [
    "df_spot_price = dws.get_data_by_sql('SELECT * FROM basis')\n",
    "df_spot_price['date'] = pd.to_datetime(df_spot_price['date'])\n",
    "start_date = df_spot_price.iloc[-1]['date'] + timedelta(days=1)\n",
    "# start_date = start_date.strftime('%Y%m%d')\n",
    "end_date = datetime.now() - timedelta(days=1)\n",
    "# end_date = end_date.strftime('%Y%m%d')\n",
    "delta = timedelta(days=1)\n",
    "dates = []\n",
    "while start_date <= end_date:\n",
    "   dates.append(start_date.strftime(\"%Y%m%d\"))\n",
    "   start_date += delta\n",
    "all_data = pd.DataFrame()\n",
    "for d in dates:\n",
    "   df = ak.futures_spot_price(d)\n",
    "   all_data = pd.concat([all_data, df], ignore_index=True)\n",
    "all_data['date'] = pd.to_datetime(all_data['date'])\n",
    "all_data.rename(columns={'symbol': 'variety'}, inplace=True)\n",
    "# 纠正AKShare基差/基差率计算错误（正负号）\n",
    "all_data['near_basis'] = -all_data['near_basis']\n",
    "all_data['dom_basis'] = -all_data['dom_basis']\n",
    "all_data['near_basis_rate'] = -all_data['near_basis_rate']\n",
    "all_data['dom_basis_rate'] = -all_data['dom_basis_rate']"
   ]
  },
  {
   "cell_type": "code",
   "execution_count": 35,
   "metadata": {},
   "outputs": [],
   "source": [
    "dws.load_from_dataframe(all_data, 'basis', 'append')"
   ]
  }
 ],
 "metadata": {
  "kernelspec": {
   "display_name": "Python 3",
   "language": "python",
   "name": "python3"
  },
  "language_info": {
   "codemirror_mode": {
    "name": "ipython",
    "version": 3
   },
   "file_extension": ".py",
   "mimetype": "text/x-python",
   "name": "python",
   "nbconvert_exporter": "python",
   "pygments_lexer": "ipython3",
   "version": "3.10.10"
  }
 },
 "nbformat": 4,
 "nbformat_minor": 2
}
