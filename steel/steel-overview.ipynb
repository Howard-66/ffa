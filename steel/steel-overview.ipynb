{
 "cells": [
  {
   "cell_type": "markdown",
   "metadata": {},
   "source": [
    "# 钢铁产业/黑色金属"
   ]
  },
  {
   "cell_type": "markdown",
   "metadata": {},
   "source": [
    "## 基础数据"
   ]
  },
  {
   "cell_type": "markdown",
   "metadata": {},
   "source": [
    "| 数据项 | 主力合约 | 历史合约 | 现货价格 | 库存数据 | 注册仓单 | 交割数据 | 虚实盘比 | 销售数据 | 利润公式 |\n",
    "| :--: | :--: | :--: | :--: | :--: | :--: | :--: | :--: | :--: | :--: |\n",
    "|上游|\n",
    "| 粗钢 | | |  \n",
    "| 焦炭 | | |\n",
    "| 生铁 | | |\n",
    "| 铁矿石 | | |\n",
    "中游\n",
    "| [螺纹钢](alternative.ipynb) | Choice | Choice | AKShare | Choice | Choice | | | Choice | √ |\n",
    "| 线材 | | |\n",
    "下游\n",
    "| 房地产 |\n",
    "| 交通运输 |"
   ]
  },
  {
   "cell_type": "markdown",
   "metadata": {},
   "source": [
    "![黑色金属产业链](steel-framework.png \"黑色金属产业链\")"
   ]
  }
 ],
 "metadata": {
  "language_info": {
   "name": "python"
  }
 },
 "nbformat": 4,
 "nbformat_minor": 2
}
