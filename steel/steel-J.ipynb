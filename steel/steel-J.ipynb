{
 "cells": [
  {
   "cell_type": "markdown",
   "metadata": {},
   "source": [
    "# 黑色金属 - 焦炭"
   ]
  },
  {
   "cell_type": "code",
   "execution_count": 1,
   "metadata": {},
   "outputs": [],
   "source": [
    "# 设置工作目录\n",
    "import os\n",
    "os.getcwd()\n",
    "if os.name == 'posix':\n",
    "    os.chdir('/Volumes/Repository/Projects/ffa/')\n",
    "else:\n",
    "    os.chdir(\"E:\\\\Document\\\\Project\\\\ffa\")"
   ]
  },
  {
   "cell_type": "code",
   "execution_count": 2,
   "metadata": {},
   "outputs": [],
   "source": [
    "# 加载依赖模块\n",
    "import pandas as pd\n",
    "import akshare as ak\n",
    "import plotly.graph_objects as go\n",
    "import plotly.express as px\n",
    "from plotly.subplots import make_subplots\n",
    "from datetime import datetime, date\n",
    "import importlib\n",
    "import commodity\n",
    "import json"
   ]
  },
  {
   "cell_type": "code",
   "execution_count": 45,
   "metadata": {},
   "outputs": [
    {
     "data": {
      "text/plain": [
       "<module 'commodity' from '/Volumes/Repository/Projects/ffa/commodity.py'>"
      ]
     },
     "execution_count": 45,
     "metadata": {},
     "output_type": "execute_result"
    }
   ],
   "source": [
    "# 重新加载salary计算模块\n",
    "importlib.reload(commodity)"
   ]
  },
  {
   "cell_type": "markdown",
   "metadata": {},
   "source": [
    "## 数据准备与预处理"
   ]
  },
  {
   "cell_type": "code",
   "execution_count": 11,
   "metadata": {},
   "outputs": [],
   "source": [
    "symbol_id = 'J'\n",
    "symbol_name = '焦炭'\n",
    "fBasePath = 'steel/data/up-stream/焦炭/'\n",
    "json_file = './steel/setting.json'"
   ]
  },
  {
   "cell_type": "markdown",
   "metadata": {},
   "source": [
    "### 数据索引设置"
   ]
  },
  {
   "cell_type": "code",
   "execution_count": 8,
   "metadata": {},
   "outputs": [],
   "source": [
    "# 品种数据索引初始化\n",
    "# 首次使用json配置文件存取品种的数据索引\n",
    "data_index = {#'主力合约': {'Name': \"dominant_contract\", 'Source':'AKShare', 'Path': fBasePath + '.xlsx', 'Field':'dominant_contract', 'DataFrame': \"df_basis\"},\n",
    "                #'近月合约': {'Name': \"near_contract\", 'Source':'AKShare', 'Path': fBasePath + '.xlsx', 'Field':'near_contract', 'DataFrame': \"df_basis\"},\n",
    "                '主力合约收盘价': {'Name': \"dominant_close_price\", 'Source':'Choice', 'Path': fBasePath + '焦炭基差.xlsx', 'Field':'期货收盘价(主力):焦炭', 'DataFrame': \"df_dominant\"},\n",
    "                '主力合约结算价': {'Name': \"dominant_settle_price\", 'Source':'Choice', 'Path': fBasePath + '焦炭基差.xlsx', 'Field':'期货结算价(主力):焦炭', 'DataFrame': \"df_dominant\"},\n",
    "                '现货价格': {'Name': \"spot_price\", 'Source':'Choice', 'Path': fBasePath + '焦炭基差.xlsx', 'Field':'现货价格:焦炭', 'DataFrame': \"df_basis\"},\n",
    "                #'基差': {'Name': \"basis\", 'Source':'AKShare', 'Path': fBasePath + '.xlsx', 'Field':'dom_basis', 'DataFrame': \"df_basis\"},\n",
    "                #'基差率': {'Name': \"basis_rate\", 'Source':'AKShare', 'Path': fBasePath + '.xlsx', 'Field':'dom_basis_rate', 'DataFrame': \"df_basis\"},\n",
    "                '产量': {'Name': \"production\", 'Source':'Choice', 'Path': fBasePath + '焦炭产量.xlsx', 'Field':'产量:焦炭:当月值', 'DataFrame': \"df_prodoction\"},\n",
    "                '销量': {'Name': \"sales\", 'Source':'Choice', 'Path': fBasePath + '焦炭销量.xlsx', 'Field':'焦炭消费量:总计', 'DataFrame': \"df_sales\"},\n",
    "                '库存': {'Name': \"instock\", 'Source':'Choice', 'Path': fBasePath + '焦炭库存.xlsx', 'Field':'焦炭库存:样本钢厂:全国', 'DataFrame': \"df_instock\"}, #需要求和\n",
    "                '仓单': {'Name': \"receipt\", 'Source':'Choice', 'Path': fBasePath + '焦炭库存.xlsx', 'Field':'仓单数量:焦炭', 'DataFrame': \"df_instock\"}\n",
    "                }\n",
    "profit_formula = {'Name': 'profit_formula', 'Factor': {'X': 1.0, 'Y': 1.0}, '其他成本': 0}\n",
    "dominant_months = [1, 5, 10]\n",
    "exchange_id = 'dce'\n",
    "symbol_setting = {'DataIndex': data_index,\n",
    "                  'ProfitFormula': profit_formula,\n",
    "                  'DominantMonths': dominant_months,\n",
    "                  'ExchangeID': exchange_id}\n"
   ]
  },
  {
   "cell_type": "markdown",
   "metadata": {},
   "source": [
    "### 数据预处理"
   ]
  },
  {
   "cell_type": "code",
   "execution_count": 12,
   "metadata": {},
   "outputs": [],
   "source": [
    "# 构造品种数据访问对象\n",
    "symbol = commodity.SymbolData(symbol_id, symbol_name, json_file, symbol_setting)\n",
    "# symbol = commodity.SymbolData(symbol_id, symbol_name, json_file)\n",
    "merged_data = symbol.merge_data()"
   ]
  },
  {
   "cell_type": "markdown",
   "metadata": {},
   "source": [
    "### 更新数据\n",
    "\n",
    "- 通过AKshare接口更新现货价格数据\n",
    "- 手动更新Choice导出数据（使用Microsoft Excel打开，自动更新后保存）"
   ]
  },
  {
   "cell_type": "code",
   "execution_count": 13,
   "metadata": {},
   "outputs": [
    {
     "ename": "KeyError",
     "evalue": "'date'",
     "output_type": "error",
     "traceback": [
      "\u001b[1;31m---------------------------------------------------------------------------\u001b[0m",
      "\u001b[1;31mKeyError\u001b[0m                                  Traceback (most recent call last)",
      "File \u001b[1;32md:\\Python3\\lib\\site-packages\\pandas\\core\\indexes\\base.py:3790\u001b[0m, in \u001b[0;36mIndex.get_loc\u001b[1;34m(self, key)\u001b[0m\n\u001b[0;32m   3789\u001b[0m \u001b[38;5;28;01mtry\u001b[39;00m:\n\u001b[1;32m-> 3790\u001b[0m     \u001b[38;5;28;01mreturn\u001b[39;00m \u001b[38;5;28;43mself\u001b[39;49m\u001b[38;5;241;43m.\u001b[39;49m\u001b[43m_engine\u001b[49m\u001b[38;5;241;43m.\u001b[39;49m\u001b[43mget_loc\u001b[49m\u001b[43m(\u001b[49m\u001b[43mcasted_key\u001b[49m\u001b[43m)\u001b[49m\n\u001b[0;32m   3791\u001b[0m \u001b[38;5;28;01mexcept\u001b[39;00m \u001b[38;5;167;01mKeyError\u001b[39;00m \u001b[38;5;28;01mas\u001b[39;00m err:\n",
      "File \u001b[1;32mindex.pyx:152\u001b[0m, in \u001b[0;36mpandas._libs.index.IndexEngine.get_loc\u001b[1;34m()\u001b[0m\n",
      "File \u001b[1;32mindex.pyx:181\u001b[0m, in \u001b[0;36mpandas._libs.index.IndexEngine.get_loc\u001b[1;34m()\u001b[0m\n",
      "File \u001b[1;32mpandas\\_libs\\hashtable_class_helper.pxi:7080\u001b[0m, in \u001b[0;36mpandas._libs.hashtable.PyObjectHashTable.get_item\u001b[1;34m()\u001b[0m\n",
      "File \u001b[1;32mpandas\\_libs\\hashtable_class_helper.pxi:7088\u001b[0m, in \u001b[0;36mpandas._libs.hashtable.PyObjectHashTable.get_item\u001b[1;34m()\u001b[0m\n",
      "\u001b[1;31mKeyError\u001b[0m: 'date'",
      "\nThe above exception was the direct cause of the following exception:\n",
      "\u001b[1;31mKeyError\u001b[0m                                  Traceback (most recent call last)",
      "Cell \u001b[1;32mIn[13], line 3\u001b[0m\n\u001b[0;32m      1\u001b[0m \u001b[38;5;66;03m# 更新现货价格数据 - AKShare\u001b[39;00m\n\u001b[0;32m      2\u001b[0m \u001b[38;5;66;03m# 追加最新数据\u001b[39;00m\n\u001b[1;32m----> 3\u001b[0m df_basis \u001b[38;5;241m=\u001b[39m \u001b[43msymbol\u001b[49m\u001b[38;5;241;43m.\u001b[39;49m\u001b[43mupdate_akshare_file\u001b[49m\u001b[43m(\u001b[49m\u001b[43mmode\u001b[49m\u001b[38;5;241;43m=\u001b[39;49m\u001b[38;5;124;43m'\u001b[39;49m\u001b[38;5;124;43mappend\u001b[39;49m\u001b[38;5;124;43m'\u001b[39;49m\u001b[43m)\u001b[49m\n\u001b[0;32m      4\u001b[0m \u001b[38;5;66;03m# 2011、2012年数据待更新\u001b[39;00m\n\u001b[0;32m      5\u001b[0m \u001b[38;5;66;03m# symbol_data.update_akshare_file(mode='period', start_date='20120101', end_date='20121231')\u001b[39;00m\n",
      "File \u001b[1;32mE:\\Document\\Project\\ffa\\commodity.py:177\u001b[0m, in \u001b[0;36mSymbolData.update_akshare_file\u001b[1;34m(self, mode, start_date, end_date)\u001b[0m\n\u001b[0;32m    175\u001b[0m df_basis\u001b[38;5;241m.\u001b[39mreset_index(drop\u001b[38;5;241m=\u001b[39m\u001b[38;5;28;01mTrue\u001b[39;00m, inplace\u001b[38;5;241m=\u001b[39m\u001b[38;5;28;01mTrue\u001b[39;00m)\n\u001b[0;32m    176\u001b[0m today \u001b[38;5;241m=\u001b[39m datetime\u001b[38;5;241m.\u001b[39mnow()\u001b[38;5;241m.\u001b[39mstrftime(\u001b[38;5;124m\"\u001b[39m\u001b[38;5;124m%\u001b[39m\u001b[38;5;124mY\u001b[39m\u001b[38;5;124m%\u001b[39m\u001b[38;5;124mm\u001b[39m\u001b[38;5;132;01m%d\u001b[39;00m\u001b[38;5;124m\"\u001b[39m)\n\u001b[1;32m--> 177\u001b[0m last_date \u001b[38;5;241m=\u001b[39m \u001b[38;5;28mstr\u001b[39m(\u001b[43mdf_basis\u001b[49m\u001b[38;5;241;43m.\u001b[39;49m\u001b[43miloc\u001b[49m\u001b[43m[\u001b[49m\u001b[38;5;241;43m-\u001b[39;49m\u001b[38;5;241;43m1\u001b[39;49m\u001b[43m]\u001b[49m\u001b[43m[\u001b[49m\u001b[38;5;124;43m'\u001b[39;49m\u001b[38;5;124;43mdate\u001b[39;49m\u001b[38;5;124;43m'\u001b[39;49m\u001b[43m]\u001b[49m)\n\u001b[0;32m    178\u001b[0m df_append \u001b[38;5;241m=\u001b[39m ak\u001b[38;5;241m.\u001b[39mfutures_spot_price_daily(start_day\u001b[38;5;241m=\u001b[39mlast_date, end_day\u001b[38;5;241m=\u001b[39mtoday, vars_list\u001b[38;5;241m=\u001b[39m[\u001b[38;5;28mself\u001b[39m\u001b[38;5;241m.\u001b[39mid])\n\u001b[0;32m    179\u001b[0m \u001b[38;5;66;03m# 移除最后一条重复数据,用最新数据替代\u001b[39;00m\n",
      "File \u001b[1;32md:\\Python3\\lib\\site-packages\\pandas\\core\\series.py:1040\u001b[0m, in \u001b[0;36mSeries.__getitem__\u001b[1;34m(self, key)\u001b[0m\n\u001b[0;32m   1037\u001b[0m     \u001b[38;5;28;01mreturn\u001b[39;00m \u001b[38;5;28mself\u001b[39m\u001b[38;5;241m.\u001b[39m_values[key]\n\u001b[0;32m   1039\u001b[0m \u001b[38;5;28;01melif\u001b[39;00m key_is_scalar:\n\u001b[1;32m-> 1040\u001b[0m     \u001b[38;5;28;01mreturn\u001b[39;00m \u001b[38;5;28;43mself\u001b[39;49m\u001b[38;5;241;43m.\u001b[39;49m\u001b[43m_get_value\u001b[49m\u001b[43m(\u001b[49m\u001b[43mkey\u001b[49m\u001b[43m)\u001b[49m\n\u001b[0;32m   1042\u001b[0m \u001b[38;5;66;03m# Convert generator to list before going through hashable part\u001b[39;00m\n\u001b[0;32m   1043\u001b[0m \u001b[38;5;66;03m# (We will iterate through the generator there to check for slices)\u001b[39;00m\n\u001b[0;32m   1044\u001b[0m \u001b[38;5;28;01mif\u001b[39;00m is_iterator(key):\n",
      "File \u001b[1;32md:\\Python3\\lib\\site-packages\\pandas\\core\\series.py:1156\u001b[0m, in \u001b[0;36mSeries._get_value\u001b[1;34m(self, label, takeable)\u001b[0m\n\u001b[0;32m   1153\u001b[0m     \u001b[38;5;28;01mreturn\u001b[39;00m \u001b[38;5;28mself\u001b[39m\u001b[38;5;241m.\u001b[39m_values[label]\n\u001b[0;32m   1155\u001b[0m \u001b[38;5;66;03m# Similar to Index.get_value, but we do not fall back to positional\u001b[39;00m\n\u001b[1;32m-> 1156\u001b[0m loc \u001b[38;5;241m=\u001b[39m \u001b[38;5;28;43mself\u001b[39;49m\u001b[38;5;241;43m.\u001b[39;49m\u001b[43mindex\u001b[49m\u001b[38;5;241;43m.\u001b[39;49m\u001b[43mget_loc\u001b[49m\u001b[43m(\u001b[49m\u001b[43mlabel\u001b[49m\u001b[43m)\u001b[49m\n\u001b[0;32m   1158\u001b[0m \u001b[38;5;28;01mif\u001b[39;00m is_integer(loc):\n\u001b[0;32m   1159\u001b[0m     \u001b[38;5;28;01mreturn\u001b[39;00m \u001b[38;5;28mself\u001b[39m\u001b[38;5;241m.\u001b[39m_values[loc]\n",
      "File \u001b[1;32md:\\Python3\\lib\\site-packages\\pandas\\core\\indexes\\base.py:3797\u001b[0m, in \u001b[0;36mIndex.get_loc\u001b[1;34m(self, key)\u001b[0m\n\u001b[0;32m   3792\u001b[0m     \u001b[38;5;28;01mif\u001b[39;00m \u001b[38;5;28misinstance\u001b[39m(casted_key, \u001b[38;5;28mslice\u001b[39m) \u001b[38;5;129;01mor\u001b[39;00m (\n\u001b[0;32m   3793\u001b[0m         \u001b[38;5;28misinstance\u001b[39m(casted_key, abc\u001b[38;5;241m.\u001b[39mIterable)\n\u001b[0;32m   3794\u001b[0m         \u001b[38;5;129;01mand\u001b[39;00m \u001b[38;5;28many\u001b[39m(\u001b[38;5;28misinstance\u001b[39m(x, \u001b[38;5;28mslice\u001b[39m) \u001b[38;5;28;01mfor\u001b[39;00m x \u001b[38;5;129;01min\u001b[39;00m casted_key)\n\u001b[0;32m   3795\u001b[0m     ):\n\u001b[0;32m   3796\u001b[0m         \u001b[38;5;28;01mraise\u001b[39;00m InvalidIndexError(key)\n\u001b[1;32m-> 3797\u001b[0m     \u001b[38;5;28;01mraise\u001b[39;00m \u001b[38;5;167;01mKeyError\u001b[39;00m(key) \u001b[38;5;28;01mfrom\u001b[39;00m \u001b[38;5;21;01merr\u001b[39;00m\n\u001b[0;32m   3798\u001b[0m \u001b[38;5;28;01mexcept\u001b[39;00m \u001b[38;5;167;01mTypeError\u001b[39;00m:\n\u001b[0;32m   3799\u001b[0m     \u001b[38;5;66;03m# If we have a listlike key, _check_indexing_error will raise\u001b[39;00m\n\u001b[0;32m   3800\u001b[0m     \u001b[38;5;66;03m#  InvalidIndexError. Otherwise we fall through and re-raise\u001b[39;00m\n\u001b[0;32m   3801\u001b[0m     \u001b[38;5;66;03m#  the TypeError.\u001b[39;00m\n\u001b[0;32m   3802\u001b[0m     \u001b[38;5;28mself\u001b[39m\u001b[38;5;241m.\u001b[39m_check_indexing_error(key)\n",
      "\u001b[1;31mKeyError\u001b[0m: 'date'"
     ]
    }
   ],
   "source": [
    "# 更新现货价格数据 - AKShare\n",
    "# 追加最新数据\n",
    "df_basis = symbol.update_akshare_file(mode='append')\n",
    "# 2011、2012年数据待更新\n",
    "# symbol_data.update_akshare_file(mode='period', start_date='20120101', end_date='20121231')"
   ]
  },
  {
   "cell_type": "code",
   "execution_count": 17,
   "metadata": {},
   "outputs": [],
   "source": [
    "futures_spot_price_df = ak.futures_spot_price(\"20231130\")"
   ]
  },
  {
   "cell_type": "code",
   "execution_count": null,
   "metadata": {},
   "outputs": [],
   "source": [
    "df_append = ak.futures_spot_price_daily(start_day='20231101', end_day='20231130', vars_list=[symbol_id])"
   ]
  }
 ],
 "metadata": {
  "kernelspec": {
   "display_name": "base",
   "language": "python",
   "name": "python3"
  },
  "language_info": {
   "codemirror_mode": {
    "name": "ipython",
    "version": 3
   },
   "file_extension": ".py",
   "mimetype": "text/x-python",
   "name": "python",
   "nbconvert_exporter": "python",
   "pygments_lexer": "ipython3",
   "version": "3.10.9"
  },
  "orig_nbformat": 4
 },
 "nbformat": 4,
 "nbformat_minor": 2
}
